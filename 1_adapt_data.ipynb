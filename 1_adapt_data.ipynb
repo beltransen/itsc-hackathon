{
 "cells": [
  {
   "cell_type": "code",
   "execution_count": 1,
   "metadata": {
    "collapsed": true
   },
   "outputs": [],
   "source": [
    "%matplotlib inline\n",
    "\n",
    "import pandas as pd\n",
    "import numpy as np\n",
    "import math\n",
    "from sklearn import preprocessing\n",
    "import matplotlib.pyplot as plt\n",
    "import pylab\n",
    "import collections"
   ]
  },
  {
   "cell_type": "code",
   "execution_count": 2,
   "metadata": {},
   "outputs": [],
   "source": [
    "train_df = pd.read_csv('../data/train.csv')\n",
    "test_df = pd.read_csv('../data/test.csv')"
   ]
  },
  {
   "cell_type": "code",
   "execution_count": 3,
   "metadata": {},
   "outputs": [
    {
     "name": "stdout",
     "output_type": "stream",
     "text": [
      "Before\n",
      "[\"'Id'\" \"'Chunk_Id'\" \"'Brake'\" \"'Gas'\" \"'Velocity'\" \"'Steering'\"\n",
      " \"'Lon_acc'\" \"'Lat_acc'\" \"'Category'\"]\n",
      "After\n",
      "['Id' 'Chunk_Id' 'Brake' 'Gas' 'Velocity' 'Steering' 'Lon_acc' 'Lat_acc'\n",
      " 'Category']\n",
      "Test\n",
      "['Id' 'Chunk_Id' 'Brake' 'Gas' 'Velocity' 'Steering' 'Lon_acc' 'Lat_acc']\n"
     ]
    }
   ],
   "source": [
    "print(\"Before\")\n",
    "print(train_df.columns.values)\n",
    "\n",
    "# Remove annoying quotes\n",
    "label_list = list(train_df.columns.values)\n",
    "for el, label in enumerate(label_list):\n",
    "    label_list[el] = label.strip(\"\\'\\’\") \n",
    "train_df.columns = label_list\n",
    "\n",
    "label_list = list(test_df.columns.values)\n",
    "for el, label in enumerate(label_list):\n",
    "    label_list[el] = label.strip(\"\\'\\’\") \n",
    "test_df.columns = label_list\n",
    "\n",
    "print(\"After\")\n",
    "print(train_df.columns.values)\n",
    "\n",
    "print(\"Test\")\n",
    "print(test_df.columns.values)"
   ]
  },
  {
   "cell_type": "code",
   "execution_count": 4,
   "metadata": {},
   "outputs": [
    {
     "data": {
      "text/html": [
       "<div>\n",
       "<style>\n",
       "    .dataframe thead tr:only-child th {\n",
       "        text-align: right;\n",
       "    }\n",
       "\n",
       "    .dataframe thead th {\n",
       "        text-align: left;\n",
       "    }\n",
       "\n",
       "    .dataframe tbody tr th {\n",
       "        vertical-align: top;\n",
       "    }\n",
       "</style>\n",
       "<table border=\"1\" class=\"dataframe\">\n",
       "  <thead>\n",
       "    <tr style=\"text-align: right;\">\n",
       "      <th></th>\n",
       "      <th>Id</th>\n",
       "      <th>Chunk_Id</th>\n",
       "      <th>Brake</th>\n",
       "      <th>Gas</th>\n",
       "      <th>Velocity</th>\n",
       "      <th>Steering</th>\n",
       "      <th>Lon_acc</th>\n",
       "      <th>Lat_acc</th>\n",
       "      <th>Category</th>\n",
       "    </tr>\n",
       "  </thead>\n",
       "  <tbody>\n",
       "    <tr>\n",
       "      <th>0</th>\n",
       "      <td>'0'</td>\n",
       "      <td>0</td>\n",
       "      <td>0.1329</td>\n",
       "      <td>0.3156</td>\n",
       "      <td>19.0509</td>\n",
       "      <td>-10.3979</td>\n",
       "      <td>-0.0239</td>\n",
       "      <td>0.0119</td>\n",
       "      <td>'0'</td>\n",
       "    </tr>\n",
       "    <tr>\n",
       "      <th>1</th>\n",
       "      <td>'1'</td>\n",
       "      <td>0</td>\n",
       "      <td>0.1493</td>\n",
       "      <td>0.5554</td>\n",
       "      <td>19.0052</td>\n",
       "      <td>-10.6694</td>\n",
       "      <td>-0.0253</td>\n",
       "      <td>0.0090</td>\n",
       "      <td>'0'</td>\n",
       "    </tr>\n",
       "    <tr>\n",
       "      <th>2</th>\n",
       "      <td>'2'</td>\n",
       "      <td>0</td>\n",
       "      <td>0.1530</td>\n",
       "      <td>0.7939</td>\n",
       "      <td>19.0123</td>\n",
       "      <td>-9.9072</td>\n",
       "      <td>-0.0245</td>\n",
       "      <td>0.0078</td>\n",
       "      <td>'0'</td>\n",
       "    </tr>\n",
       "    <tr>\n",
       "      <th>3</th>\n",
       "      <td>'3'</td>\n",
       "      <td>0</td>\n",
       "      <td>0.1427</td>\n",
       "      <td>0.9724</td>\n",
       "      <td>19.0338</td>\n",
       "      <td>-9.1565</td>\n",
       "      <td>-0.0225</td>\n",
       "      <td>0.0118</td>\n",
       "      <td>'0'</td>\n",
       "    </tr>\n",
       "    <tr>\n",
       "      <th>4</th>\n",
       "      <td>'4'</td>\n",
       "      <td>0</td>\n",
       "      <td>0.1448</td>\n",
       "      <td>1.1330</td>\n",
       "      <td>19.0449</td>\n",
       "      <td>-9.1151</td>\n",
       "      <td>-0.0237</td>\n",
       "      <td>0.0094</td>\n",
       "      <td>'0'</td>\n",
       "    </tr>\n",
       "  </tbody>\n",
       "</table>\n",
       "</div>"
      ],
      "text/plain": [
       "    Id  Chunk_Id   Brake     Gas  Velocity  Steering  Lon_acc  Lat_acc  \\\n",
       "0  '0'         0  0.1329  0.3156   19.0509  -10.3979  -0.0239   0.0119   \n",
       "1  '1'         0  0.1493  0.5554   19.0052  -10.6694  -0.0253   0.0090   \n",
       "2  '2'         0  0.1530  0.7939   19.0123   -9.9072  -0.0245   0.0078   \n",
       "3  '3'         0  0.1427  0.9724   19.0338   -9.1565  -0.0225   0.0118   \n",
       "4  '4'         0  0.1448  1.1330   19.0449   -9.1151  -0.0237   0.0094   \n",
       "\n",
       "  Category  \n",
       "0      '0'  \n",
       "1      '0'  \n",
       "2      '0'  \n",
       "3      '0'  \n",
       "4      '0'  "
      ]
     },
     "execution_count": 4,
     "metadata": {},
     "output_type": "execute_result"
    }
   ],
   "source": [
    "train_df.head()"
   ]
  },
  {
   "cell_type": "code",
   "execution_count": 5,
   "metadata": {},
   "outputs": [
    {
     "data": {
      "text/html": [
       "<div>\n",
       "<style>\n",
       "    .dataframe thead tr:only-child th {\n",
       "        text-align: right;\n",
       "    }\n",
       "\n",
       "    .dataframe thead th {\n",
       "        text-align: left;\n",
       "    }\n",
       "\n",
       "    .dataframe tbody tr th {\n",
       "        vertical-align: top;\n",
       "    }\n",
       "</style>\n",
       "<table border=\"1\" class=\"dataframe\">\n",
       "  <thead>\n",
       "    <tr style=\"text-align: right;\">\n",
       "      <th></th>\n",
       "      <th>Id</th>\n",
       "      <th>Chunk_Id</th>\n",
       "      <th>Brake</th>\n",
       "      <th>Gas</th>\n",
       "      <th>Velocity</th>\n",
       "      <th>Steering</th>\n",
       "      <th>Lon_acc</th>\n",
       "      <th>Lat_acc</th>\n",
       "      <th>Category</th>\n",
       "    </tr>\n",
       "  </thead>\n",
       "  <tbody>\n",
       "    <tr>\n",
       "      <th>260411</th>\n",
       "      <td>'260411'</td>\n",
       "      <td>45</td>\n",
       "      <td>0.2617</td>\n",
       "      <td>8.9257</td>\n",
       "      <td>23.3459</td>\n",
       "      <td>4.2808</td>\n",
       "      <td>0.0431</td>\n",
       "      <td>0.0210</td>\n",
       "      <td>'0'</td>\n",
       "    </tr>\n",
       "    <tr>\n",
       "      <th>260412</th>\n",
       "      <td>'260412'</td>\n",
       "      <td>45</td>\n",
       "      <td>0.3212</td>\n",
       "      <td>10.2578</td>\n",
       "      <td>23.2567</td>\n",
       "      <td>5.5771</td>\n",
       "      <td>0.0484</td>\n",
       "      <td>0.0244</td>\n",
       "      <td>'0'</td>\n",
       "    </tr>\n",
       "    <tr>\n",
       "      <th>260413</th>\n",
       "      <td>'260413'</td>\n",
       "      <td>45</td>\n",
       "      <td>0.2271</td>\n",
       "      <td>11.3305</td>\n",
       "      <td>23.2269</td>\n",
       "      <td>8.6533</td>\n",
       "      <td>0.0486</td>\n",
       "      <td>0.0244</td>\n",
       "      <td>'0'</td>\n",
       "    </tr>\n",
       "    <tr>\n",
       "      <th>260414</th>\n",
       "      <td>'260414'</td>\n",
       "      <td>45</td>\n",
       "      <td>0.1305</td>\n",
       "      <td>12.1118</td>\n",
       "      <td>23.1628</td>\n",
       "      <td>14.1465</td>\n",
       "      <td>0.0489</td>\n",
       "      <td>0.0250</td>\n",
       "      <td>'0'</td>\n",
       "    </tr>\n",
       "    <tr>\n",
       "      <th>260415</th>\n",
       "      <td>'260415'</td>\n",
       "      <td>45</td>\n",
       "      <td>0.0237</td>\n",
       "      <td>12.3315</td>\n",
       "      <td>23.0621</td>\n",
       "      <td>15.3550</td>\n",
       "      <td>0.0509</td>\n",
       "      <td>0.0269</td>\n",
       "      <td>'0'</td>\n",
       "    </tr>\n",
       "  </tbody>\n",
       "</table>\n",
       "</div>"
      ],
      "text/plain": [
       "              Id  Chunk_Id   Brake      Gas  Velocity  Steering  Lon_acc  \\\n",
       "260411  '260411'        45  0.2617   8.9257   23.3459    4.2808   0.0431   \n",
       "260412  '260412'        45  0.3212  10.2578   23.2567    5.5771   0.0484   \n",
       "260413  '260413'        45  0.2271  11.3305   23.2269    8.6533   0.0486   \n",
       "260414  '260414'        45  0.1305  12.1118   23.1628   14.1465   0.0489   \n",
       "260415  '260415'        45  0.0237  12.3315   23.0621   15.3550   0.0509   \n",
       "\n",
       "        Lat_acc Category  \n",
       "260411   0.0210      '0'  \n",
       "260412   0.0244      '0'  \n",
       "260413   0.0244      '0'  \n",
       "260414   0.0250      '0'  \n",
       "260415   0.0269      '0'  "
      ]
     },
     "execution_count": 5,
     "metadata": {},
     "output_type": "execute_result"
    }
   ],
   "source": [
    "train_df.tail()"
   ]
  },
  {
   "cell_type": "code",
   "execution_count": 6,
   "metadata": {},
   "outputs": [
    {
     "name": "stdout",
     "output_type": "stream",
     "text": [
      "<class 'pandas.core.frame.DataFrame'>\n",
      "RangeIndex: 260416 entries, 0 to 260415\n",
      "Data columns (total 9 columns):\n",
      "Id          260416 non-null object\n",
      "Chunk_Id    260416 non-null int64\n",
      "Brake       260416 non-null float64\n",
      "Gas         260416 non-null float64\n",
      "Velocity    260416 non-null float64\n",
      "Steering    260416 non-null float64\n",
      "Lon_acc     260416 non-null float64\n",
      "Lat_acc     260416 non-null float64\n",
      "Category    260416 non-null object\n",
      "dtypes: float64(6), int64(1), object(2)\n",
      "memory usage: 17.9+ MB\n"
     ]
    }
   ],
   "source": [
    "train_df.info()"
   ]
  },
  {
   "cell_type": "code",
   "execution_count": 7,
   "metadata": {},
   "outputs": [
    {
     "data": {
      "text/html": [
       "<div>\n",
       "<style>\n",
       "    .dataframe thead tr:only-child th {\n",
       "        text-align: right;\n",
       "    }\n",
       "\n",
       "    .dataframe thead th {\n",
       "        text-align: left;\n",
       "    }\n",
       "\n",
       "    .dataframe tbody tr th {\n",
       "        vertical-align: top;\n",
       "    }\n",
       "</style>\n",
       "<table border=\"1\" class=\"dataframe\">\n",
       "  <thead>\n",
       "    <tr style=\"text-align: right;\">\n",
       "      <th></th>\n",
       "      <th>Chunk_Id</th>\n",
       "      <th>Brake</th>\n",
       "      <th>Gas</th>\n",
       "      <th>Velocity</th>\n",
       "      <th>Steering</th>\n",
       "      <th>Lon_acc</th>\n",
       "      <th>Lat_acc</th>\n",
       "    </tr>\n",
       "  </thead>\n",
       "  <tbody>\n",
       "    <tr>\n",
       "      <th>count</th>\n",
       "      <td>260416.000000</td>\n",
       "      <td>260416.000000</td>\n",
       "      <td>260416.000000</td>\n",
       "      <td>260416.000000</td>\n",
       "      <td>260416.000000</td>\n",
       "      <td>260416.000000</td>\n",
       "      <td>260416.000000</td>\n",
       "    </tr>\n",
       "    <tr>\n",
       "      <th>mean</th>\n",
       "      <td>21.436214</td>\n",
       "      <td>0.765570</td>\n",
       "      <td>8.462738</td>\n",
       "      <td>84.800631</td>\n",
       "      <td>-0.817910</td>\n",
       "      <td>0.005919</td>\n",
       "      <td>0.010410</td>\n",
       "    </tr>\n",
       "    <tr>\n",
       "      <th>std</th>\n",
       "      <td>13.591485</td>\n",
       "      <td>3.167018</td>\n",
       "      <td>8.548099</td>\n",
       "      <td>16.907625</td>\n",
       "      <td>16.411863</td>\n",
       "      <td>0.042064</td>\n",
       "      <td>0.033955</td>\n",
       "    </tr>\n",
       "    <tr>\n",
       "      <th>min</th>\n",
       "      <td>0.000000</td>\n",
       "      <td>-0.838100</td>\n",
       "      <td>-2.984200</td>\n",
       "      <td>-0.569400</td>\n",
       "      <td>-144.308000</td>\n",
       "      <td>-0.279900</td>\n",
       "      <td>-0.127600</td>\n",
       "    </tr>\n",
       "    <tr>\n",
       "      <th>25%</th>\n",
       "      <td>9.000000</td>\n",
       "      <td>-0.024100</td>\n",
       "      <td>0.391300</td>\n",
       "      <td>75.204250</td>\n",
       "      <td>-2.728725</td>\n",
       "      <td>-0.016500</td>\n",
       "      <td>-0.007300</td>\n",
       "    </tr>\n",
       "    <tr>\n",
       "      <th>50%</th>\n",
       "      <td>20.000000</td>\n",
       "      <td>0.126400</td>\n",
       "      <td>7.149600</td>\n",
       "      <td>87.460650</td>\n",
       "      <td>0.092100</td>\n",
       "      <td>0.005100</td>\n",
       "      <td>0.006800</td>\n",
       "    </tr>\n",
       "    <tr>\n",
       "      <th>75%</th>\n",
       "      <td>34.000000</td>\n",
       "      <td>0.356500</td>\n",
       "      <td>13.980750</td>\n",
       "      <td>96.374000</td>\n",
       "      <td>2.616100</td>\n",
       "      <td>0.026700</td>\n",
       "      <td>0.022700</td>\n",
       "    </tr>\n",
       "    <tr>\n",
       "      <th>max</th>\n",
       "      <td>45.000000</td>\n",
       "      <td>41.003000</td>\n",
       "      <td>206.121000</td>\n",
       "      <td>128.355000</td>\n",
       "      <td>692.799000</td>\n",
       "      <td>0.237600</td>\n",
       "      <td>0.440500</td>\n",
       "    </tr>\n",
       "  </tbody>\n",
       "</table>\n",
       "</div>"
      ],
      "text/plain": [
       "            Chunk_Id          Brake            Gas       Velocity  \\\n",
       "count  260416.000000  260416.000000  260416.000000  260416.000000   \n",
       "mean       21.436214       0.765570       8.462738      84.800631   \n",
       "std        13.591485       3.167018       8.548099      16.907625   \n",
       "min         0.000000      -0.838100      -2.984200      -0.569400   \n",
       "25%         9.000000      -0.024100       0.391300      75.204250   \n",
       "50%        20.000000       0.126400       7.149600      87.460650   \n",
       "75%        34.000000       0.356500      13.980750      96.374000   \n",
       "max        45.000000      41.003000     206.121000     128.355000   \n",
       "\n",
       "            Steering        Lon_acc        Lat_acc  \n",
       "count  260416.000000  260416.000000  260416.000000  \n",
       "mean       -0.817910       0.005919       0.010410  \n",
       "std        16.411863       0.042064       0.033955  \n",
       "min      -144.308000      -0.279900      -0.127600  \n",
       "25%        -2.728725      -0.016500      -0.007300  \n",
       "50%         0.092100       0.005100       0.006800  \n",
       "75%         2.616100       0.026700       0.022700  \n",
       "max       692.799000       0.237600       0.440500  "
      ]
     },
     "execution_count": 7,
     "metadata": {},
     "output_type": "execute_result"
    }
   ],
   "source": [
    "train_df.describe()"
   ]
  },
  {
   "cell_type": "code",
   "execution_count": 8,
   "metadata": {},
   "outputs": [
    {
     "data": {
      "text/html": [
       "<div>\n",
       "<style>\n",
       "    .dataframe thead tr:only-child th {\n",
       "        text-align: right;\n",
       "    }\n",
       "\n",
       "    .dataframe thead th {\n",
       "        text-align: left;\n",
       "    }\n",
       "\n",
       "    .dataframe tbody tr th {\n",
       "        vertical-align: top;\n",
       "    }\n",
       "</style>\n",
       "<table border=\"1\" class=\"dataframe\">\n",
       "  <thead>\n",
       "    <tr style=\"text-align: right;\">\n",
       "      <th></th>\n",
       "      <th>Chunk_Id</th>\n",
       "      <th>Brake</th>\n",
       "      <th>Gas</th>\n",
       "      <th>Velocity</th>\n",
       "      <th>Steering</th>\n",
       "      <th>Lon_acc</th>\n",
       "      <th>Lat_acc</th>\n",
       "    </tr>\n",
       "  </thead>\n",
       "  <tbody>\n",
       "    <tr>\n",
       "      <th>count</th>\n",
       "      <td>74175.000000</td>\n",
       "      <td>74175.000000</td>\n",
       "      <td>74175.000000</td>\n",
       "      <td>74175.000000</td>\n",
       "      <td>74175.000000</td>\n",
       "      <td>74175.000000</td>\n",
       "      <td>74175.000000</td>\n",
       "    </tr>\n",
       "    <tr>\n",
       "      <th>mean</th>\n",
       "      <td>52.343323</td>\n",
       "      <td>0.693354</td>\n",
       "      <td>6.009206</td>\n",
       "      <td>80.812965</td>\n",
       "      <td>-0.795658</td>\n",
       "      <td>0.009559</td>\n",
       "      <td>0.008826</td>\n",
       "    </tr>\n",
       "    <tr>\n",
       "      <th>std</th>\n",
       "      <td>3.397444</td>\n",
       "      <td>2.813998</td>\n",
       "      <td>7.283171</td>\n",
       "      <td>14.501082</td>\n",
       "      <td>7.723943</td>\n",
       "      <td>0.043696</td>\n",
       "      <td>0.032643</td>\n",
       "    </tr>\n",
       "    <tr>\n",
       "      <th>min</th>\n",
       "      <td>46.000000</td>\n",
       "      <td>-0.634500</td>\n",
       "      <td>-4.307000</td>\n",
       "      <td>13.218200</td>\n",
       "      <td>-82.264600</td>\n",
       "      <td>-0.238100</td>\n",
       "      <td>-0.141000</td>\n",
       "    </tr>\n",
       "    <tr>\n",
       "      <th>25%</th>\n",
       "      <td>50.000000</td>\n",
       "      <td>0.020000</td>\n",
       "      <td>0.201550</td>\n",
       "      <td>72.732050</td>\n",
       "      <td>-2.583800</td>\n",
       "      <td>-0.015000</td>\n",
       "      <td>-0.008100</td>\n",
       "    </tr>\n",
       "    <tr>\n",
       "      <th>50%</th>\n",
       "      <td>53.000000</td>\n",
       "      <td>0.165500</td>\n",
       "      <td>2.783900</td>\n",
       "      <td>82.133500</td>\n",
       "      <td>0.188900</td>\n",
       "      <td>0.007300</td>\n",
       "      <td>0.005500</td>\n",
       "    </tr>\n",
       "    <tr>\n",
       "      <th>75%</th>\n",
       "      <td>55.000000</td>\n",
       "      <td>0.398950</td>\n",
       "      <td>10.112950</td>\n",
       "      <td>90.150350</td>\n",
       "      <td>2.703500</td>\n",
       "      <td>0.031900</td>\n",
       "      <td>0.020200</td>\n",
       "    </tr>\n",
       "    <tr>\n",
       "      <th>max</th>\n",
       "      <td>58.000000</td>\n",
       "      <td>26.523500</td>\n",
       "      <td>90.817500</td>\n",
       "      <td>117.252000</td>\n",
       "      <td>31.281200</td>\n",
       "      <td>0.202900</td>\n",
       "      <td>0.289400</td>\n",
       "    </tr>\n",
       "  </tbody>\n",
       "</table>\n",
       "</div>"
      ],
      "text/plain": [
       "           Chunk_Id         Brake           Gas      Velocity      Steering  \\\n",
       "count  74175.000000  74175.000000  74175.000000  74175.000000  74175.000000   \n",
       "mean      52.343323      0.693354      6.009206     80.812965     -0.795658   \n",
       "std        3.397444      2.813998      7.283171     14.501082      7.723943   \n",
       "min       46.000000     -0.634500     -4.307000     13.218200    -82.264600   \n",
       "25%       50.000000      0.020000      0.201550     72.732050     -2.583800   \n",
       "50%       53.000000      0.165500      2.783900     82.133500      0.188900   \n",
       "75%       55.000000      0.398950     10.112950     90.150350      2.703500   \n",
       "max       58.000000     26.523500     90.817500    117.252000     31.281200   \n",
       "\n",
       "            Lon_acc       Lat_acc  \n",
       "count  74175.000000  74175.000000  \n",
       "mean       0.009559      0.008826  \n",
       "std        0.043696      0.032643  \n",
       "min       -0.238100     -0.141000  \n",
       "25%       -0.015000     -0.008100  \n",
       "50%        0.007300      0.005500  \n",
       "75%        0.031900      0.020200  \n",
       "max        0.202900      0.289400  "
      ]
     },
     "execution_count": 8,
     "metadata": {},
     "output_type": "execute_result"
    }
   ],
   "source": [
    "test_df.describe()"
   ]
  },
  {
   "cell_type": "code",
   "execution_count": 9,
   "metadata": {},
   "outputs": [
    {
     "data": {
      "text/html": [
       "<div>\n",
       "<style>\n",
       "    .dataframe thead tr:only-child th {\n",
       "        text-align: right;\n",
       "    }\n",
       "\n",
       "    .dataframe thead th {\n",
       "        text-align: left;\n",
       "    }\n",
       "\n",
       "    .dataframe tbody tr th {\n",
       "        vertical-align: top;\n",
       "    }\n",
       "</style>\n",
       "<table border=\"1\" class=\"dataframe\">\n",
       "  <thead>\n",
       "    <tr style=\"text-align: right;\">\n",
       "      <th></th>\n",
       "      <th>Id</th>\n",
       "      <th>Category</th>\n",
       "    </tr>\n",
       "  </thead>\n",
       "  <tbody>\n",
       "    <tr>\n",
       "      <th>count</th>\n",
       "      <td>260416</td>\n",
       "      <td>260416</td>\n",
       "    </tr>\n",
       "    <tr>\n",
       "      <th>unique</th>\n",
       "      <td>260416</td>\n",
       "      <td>3</td>\n",
       "    </tr>\n",
       "    <tr>\n",
       "      <th>top</th>\n",
       "      <td>'142137'</td>\n",
       "      <td>'0'</td>\n",
       "    </tr>\n",
       "    <tr>\n",
       "      <th>freq</th>\n",
       "      <td>1</td>\n",
       "      <td>214591</td>\n",
       "    </tr>\n",
       "  </tbody>\n",
       "</table>\n",
       "</div>"
      ],
      "text/plain": [
       "              Id Category\n",
       "count     260416   260416\n",
       "unique    260416        3\n",
       "top     '142137'      '0'\n",
       "freq           1   214591"
      ]
     },
     "execution_count": 9,
     "metadata": {},
     "output_type": "execute_result"
    }
   ],
   "source": [
    "train_df.describe(include=['O'])"
   ]
  },
  {
   "cell_type": "code",
   "execution_count": 10,
   "metadata": {
    "collapsed": true
   },
   "outputs": [],
   "source": [
    "train_df.drop(['Id'], axis=1, inplace=True)\n",
    "test_df.drop(['Id'], axis=1, inplace=True)"
   ]
  },
  {
   "cell_type": "code",
   "execution_count": 11,
   "metadata": {},
   "outputs": [
    {
     "name": "stdout",
     "output_type": "stream",
     "text": [
      "<class 'pandas.core.frame.DataFrame'>\n",
      "RangeIndex: 260416 entries, 0 to 260415\n",
      "Data columns (total 8 columns):\n",
      "Chunk_Id    260416 non-null int64\n",
      "Brake       260416 non-null float64\n",
      "Gas         260416 non-null float64\n",
      "Velocity    260416 non-null float64\n",
      "Steering    260416 non-null float64\n",
      "Lon_acc     260416 non-null float64\n",
      "Lat_acc     260416 non-null float64\n",
      "Category    260416 non-null object\n",
      "dtypes: float64(6), int64(1), object(1)\n",
      "memory usage: 15.9+ MB\n"
     ]
    }
   ],
   "source": [
    "train_df.info()"
   ]
  },
  {
   "cell_type": "code",
   "execution_count": 12,
   "metadata": {},
   "outputs": [
    {
     "data": {
      "text/plain": [
       "(-90, 90)"
      ]
     },
     "execution_count": 12,
     "metadata": {},
     "output_type": "execute_result"
    },
    {
     "data": {
      "image/png": "[encoded data removed]",
      "text/plain": [
       "<matplotlib.figure.Figure at 0x7f7cfee74400>"
      ]
     },
     "metadata": {},
     "output_type": "display_data"
    }
   ],
   "source": [
    "pylab.plot(train_df['Steering'])\n",
    "pylab.ylim(-90, 90)"
   ]
  },
  {
   "cell_type": "code",
   "execution_count": 13,
   "metadata": {},
   "outputs": [
    {
     "data": {
      "text/plain": [
       "[<matplotlib.lines.Line2D at 0x7f7cfeff6d68>]"
      ]
     },
     "execution_count": 13,
     "metadata": {},
     "output_type": "execute_result"
    },
    {
     "data": {
      "image/png": "[encoded data removed]",
      "text/plain": [
       "<matplotlib.figure.Figure at 0x7f7cfee74128>"
      ]
     },
     "metadata": {},
     "output_type": "display_data"
    }
   ],
   "source": [
    "plt.plot(test_df['Steering'])"
   ]
  },
  {
   "cell_type": "code",
   "execution_count": 14,
   "metadata": {},
   "outputs": [
    {
     "name": "stdout",
     "output_type": "stream",
     "text": [
      "Index(['Brake', 'Gas', 'Velocity', 'Steering', 'Lon_acc', 'Lat_acc'], dtype='object')\n"
     ]
    }
   ],
   "source": [
    "# Normalization ranges\n",
    "print(train_df.columns[1:-1])\n",
    "min_ranges = [0, 0, 0, -90, -0.4, -0.4]\n",
    "max_ranges = [50, 250, 130, 90, 0.4, 0.4]"
   ]
  },
  {
   "cell_type": "code",
   "execution_count": 15,
   "metadata": {
    "collapsed": true
   },
   "outputs": [],
   "source": [
    "\n",
    "\n",
    "# Normalization\n",
    "for idx, col in enumerate(train_df.columns[1:-1]):\n",
    "    train_df[col] = np.maximum(-1,np.minimum(1,-1+2*(train_df[col]-min_ranges[idx])/(max_ranges[idx]-min_ranges[idx]))    )\n",
    "    \n",
    "for idx, col in enumerate(test_df.columns[1:]):\n",
    "    test_df[col] = np.maximum(-1,np.minimum(1,-1+2*(test_df[col]-min_ranges[idx])/(max_ranges[idx]-min_ranges[idx])))\n"
   ]
  },
  {
   "cell_type": "code",
   "execution_count": 16,
   "metadata": {},
   "outputs": [
    {
     "data": {
      "text/html": [
       "<div>\n",
       "<style>\n",
       "    .dataframe thead tr:only-child th {\n",
       "        text-align: right;\n",
       "    }\n",
       "\n",
       "    .dataframe thead th {\n",
       "        text-align: left;\n",
       "    }\n",
       "\n",
       "    .dataframe tbody tr th {\n",
       "        vertical-align: top;\n",
       "    }\n",
       "</style>\n",
       "<table border=\"1\" class=\"dataframe\">\n",
       "  <thead>\n",
       "    <tr style=\"text-align: right;\">\n",
       "      <th></th>\n",
       "      <th>Chunk_Id</th>\n",
       "      <th>Brake</th>\n",
       "      <th>Gas</th>\n",
       "      <th>Velocity</th>\n",
       "      <th>Steering</th>\n",
       "      <th>Lon_acc</th>\n",
       "      <th>Lat_acc</th>\n",
       "    </tr>\n",
       "  </thead>\n",
       "  <tbody>\n",
       "    <tr>\n",
       "      <th>count</th>\n",
       "      <td>260416.000000</td>\n",
       "      <td>260416.000000</td>\n",
       "      <td>260416.000000</td>\n",
       "      <td>260416.000000</td>\n",
       "      <td>260416.000000</td>\n",
       "      <td>260416.000000</td>\n",
       "      <td>260416.000000</td>\n",
       "    </tr>\n",
       "    <tr>\n",
       "      <th>mean</th>\n",
       "      <td>21.436214</td>\n",
       "      <td>-0.967720</td>\n",
       "      <td>-0.932251</td>\n",
       "      <td>0.304628</td>\n",
       "      <td>-0.011829</td>\n",
       "      <td>0.014797</td>\n",
       "      <td>0.026022</td>\n",
       "    </tr>\n",
       "    <tr>\n",
       "      <th>std</th>\n",
       "      <td>13.591485</td>\n",
       "      <td>0.126200</td>\n",
       "      <td>0.068337</td>\n",
       "      <td>0.260103</td>\n",
       "      <td>0.103394</td>\n",
       "      <td>0.105159</td>\n",
       "      <td>0.084843</td>\n",
       "    </tr>\n",
       "    <tr>\n",
       "      <th>min</th>\n",
       "      <td>0.000000</td>\n",
       "      <td>-1.000000</td>\n",
       "      <td>-1.000000</td>\n",
       "      <td>-1.000000</td>\n",
       "      <td>-1.000000</td>\n",
       "      <td>-0.699750</td>\n",
       "      <td>-0.319000</td>\n",
       "    </tr>\n",
       "    <tr>\n",
       "      <th>25%</th>\n",
       "      <td>9.000000</td>\n",
       "      <td>-1.000000</td>\n",
       "      <td>-0.996870</td>\n",
       "      <td>0.156988</td>\n",
       "      <td>-0.030319</td>\n",
       "      <td>-0.041250</td>\n",
       "      <td>-0.018250</td>\n",
       "    </tr>\n",
       "    <tr>\n",
       "      <th>50%</th>\n",
       "      <td>20.000000</td>\n",
       "      <td>-0.994944</td>\n",
       "      <td>-0.942803</td>\n",
       "      <td>0.345548</td>\n",
       "      <td>0.001023</td>\n",
       "      <td>0.012750</td>\n",
       "      <td>0.017000</td>\n",
       "    </tr>\n",
       "    <tr>\n",
       "      <th>75%</th>\n",
       "      <td>34.000000</td>\n",
       "      <td>-0.985740</td>\n",
       "      <td>-0.888154</td>\n",
       "      <td>0.482677</td>\n",
       "      <td>0.029068</td>\n",
       "      <td>0.066750</td>\n",
       "      <td>0.056750</td>\n",
       "    </tr>\n",
       "    <tr>\n",
       "      <th>max</th>\n",
       "      <td>45.000000</td>\n",
       "      <td>0.640120</td>\n",
       "      <td>0.648968</td>\n",
       "      <td>0.974692</td>\n",
       "      <td>1.000000</td>\n",
       "      <td>0.594000</td>\n",
       "      <td>1.000000</td>\n",
       "    </tr>\n",
       "  </tbody>\n",
       "</table>\n",
       "</div>"
      ],
      "text/plain": [
       "            Chunk_Id          Brake            Gas       Velocity  \\\n",
       "count  260416.000000  260416.000000  260416.000000  260416.000000   \n",
       "mean       21.436214      -0.967720      -0.932251       0.304628   \n",
       "std        13.591485       0.126200       0.068337       0.260103   \n",
       "min         0.000000      -1.000000      -1.000000      -1.000000   \n",
       "25%         9.000000      -1.000000      -0.996870       0.156988   \n",
       "50%        20.000000      -0.994944      -0.942803       0.345548   \n",
       "75%        34.000000      -0.985740      -0.888154       0.482677   \n",
       "max        45.000000       0.640120       0.648968       0.974692   \n",
       "\n",
       "            Steering        Lon_acc        Lat_acc  \n",
       "count  260416.000000  260416.000000  260416.000000  \n",
       "mean       -0.011829       0.014797       0.026022  \n",
       "std         0.103394       0.105159       0.084843  \n",
       "min        -1.000000      -0.699750      -0.319000  \n",
       "25%        -0.030319      -0.041250      -0.018250  \n",
       "50%         0.001023       0.012750       0.017000  \n",
       "75%         0.029068       0.066750       0.056750  \n",
       "max         1.000000       0.594000       1.000000  "
      ]
     },
     "execution_count": 16,
     "metadata": {},
     "output_type": "execute_result"
    }
   ],
   "source": [
    "train_df.describe()"
   ]
  },
  {
   "cell_type": "code",
   "execution_count": 17,
   "metadata": {},
   "outputs": [
    {
     "data": {
      "text/html": [
       "<div>\n",
       "<style>\n",
       "    .dataframe thead tr:only-child th {\n",
       "        text-align: right;\n",
       "    }\n",
       "\n",
       "    .dataframe thead th {\n",
       "        text-align: left;\n",
       "    }\n",
       "\n",
       "    .dataframe tbody tr th {\n",
       "        vertical-align: top;\n",
       "    }\n",
       "</style>\n",
       "<table border=\"1\" class=\"dataframe\">\n",
       "  <thead>\n",
       "    <tr style=\"text-align: right;\">\n",
       "      <th></th>\n",
       "      <th>Chunk_Id</th>\n",
       "      <th>Brake</th>\n",
       "      <th>Gas</th>\n",
       "      <th>Velocity</th>\n",
       "      <th>Steering</th>\n",
       "      <th>Lon_acc</th>\n",
       "      <th>Lat_acc</th>\n",
       "    </tr>\n",
       "  </thead>\n",
       "  <tbody>\n",
       "    <tr>\n",
       "      <th>count</th>\n",
       "      <td>74175.000000</td>\n",
       "      <td>74175.000000</td>\n",
       "      <td>74175.000000</td>\n",
       "      <td>74175.000000</td>\n",
       "      <td>74175.000000</td>\n",
       "      <td>74175.000000</td>\n",
       "      <td>74175.000000</td>\n",
       "    </tr>\n",
       "    <tr>\n",
       "      <th>mean</th>\n",
       "      <td>52.343323</td>\n",
       "      <td>-0.971342</td>\n",
       "      <td>-0.951872</td>\n",
       "      <td>0.243276</td>\n",
       "      <td>-0.008841</td>\n",
       "      <td>0.023897</td>\n",
       "      <td>0.022066</td>\n",
       "    </tr>\n",
       "    <tr>\n",
       "      <th>std</th>\n",
       "      <td>3.397444</td>\n",
       "      <td>0.112300</td>\n",
       "      <td>0.058218</td>\n",
       "      <td>0.223094</td>\n",
       "      <td>0.085822</td>\n",
       "      <td>0.109240</td>\n",
       "      <td>0.081607</td>\n",
       "    </tr>\n",
       "    <tr>\n",
       "      <th>min</th>\n",
       "      <td>46.000000</td>\n",
       "      <td>-1.000000</td>\n",
       "      <td>-1.000000</td>\n",
       "      <td>-0.796643</td>\n",
       "      <td>-0.914051</td>\n",
       "      <td>-0.595250</td>\n",
       "      <td>-0.352500</td>\n",
       "    </tr>\n",
       "    <tr>\n",
       "      <th>25%</th>\n",
       "      <td>50.000000</td>\n",
       "      <td>-0.999200</td>\n",
       "      <td>-0.998388</td>\n",
       "      <td>0.118955</td>\n",
       "      <td>-0.028709</td>\n",
       "      <td>-0.037500</td>\n",
       "      <td>-0.020250</td>\n",
       "    </tr>\n",
       "    <tr>\n",
       "      <th>50%</th>\n",
       "      <td>53.000000</td>\n",
       "      <td>-0.993380</td>\n",
       "      <td>-0.977729</td>\n",
       "      <td>0.263592</td>\n",
       "      <td>0.002099</td>\n",
       "      <td>0.018250</td>\n",
       "      <td>0.013750</td>\n",
       "    </tr>\n",
       "    <tr>\n",
       "      <th>75%</th>\n",
       "      <td>55.000000</td>\n",
       "      <td>-0.984042</td>\n",
       "      <td>-0.919096</td>\n",
       "      <td>0.386928</td>\n",
       "      <td>0.030039</td>\n",
       "      <td>0.079750</td>\n",
       "      <td>0.050500</td>\n",
       "    </tr>\n",
       "    <tr>\n",
       "      <th>max</th>\n",
       "      <td>58.000000</td>\n",
       "      <td>0.060940</td>\n",
       "      <td>-0.273460</td>\n",
       "      <td>0.803877</td>\n",
       "      <td>0.347569</td>\n",
       "      <td>0.507250</td>\n",
       "      <td>0.723500</td>\n",
       "    </tr>\n",
       "  </tbody>\n",
       "</table>\n",
       "</div>"
      ],
      "text/plain": [
       "           Chunk_Id         Brake           Gas      Velocity      Steering  \\\n",
       "count  74175.000000  74175.000000  74175.000000  74175.000000  74175.000000   \n",
       "mean      52.343323     -0.971342     -0.951872      0.243276     -0.008841   \n",
       "std        3.397444      0.112300      0.058218      0.223094      0.085822   \n",
       "min       46.000000     -1.000000     -1.000000     -0.796643     -0.914051   \n",
       "25%       50.000000     -0.999200     -0.998388      0.118955     -0.028709   \n",
       "50%       53.000000     -0.993380     -0.977729      0.263592      0.002099   \n",
       "75%       55.000000     -0.984042     -0.919096      0.386928      0.030039   \n",
       "max       58.000000      0.060940     -0.273460      0.803877      0.347569   \n",
       "\n",
       "            Lon_acc       Lat_acc  \n",
       "count  74175.000000  74175.000000  \n",
       "mean       0.023897      0.022066  \n",
       "std        0.109240      0.081607  \n",
       "min       -0.595250     -0.352500  \n",
       "25%       -0.037500     -0.020250  \n",
       "50%        0.018250      0.013750  \n",
       "75%        0.079750      0.050500  \n",
       "max        0.507250      0.723500  "
      ]
     },
     "execution_count": 17,
     "metadata": {},
     "output_type": "execute_result"
    }
   ],
   "source": [
    "test_df.describe()"
   ]
  },
  {
   "cell_type": "code",
   "execution_count": 18,
   "metadata": {},
   "outputs": [
    {
     "data": {
      "text/html": [
       "<div>\n",
       "<style>\n",
       "    .dataframe thead tr:only-child th {\n",
       "        text-align: right;\n",
       "    }\n",
       "\n",
       "    .dataframe thead th {\n",
       "        text-align: left;\n",
       "    }\n",
       "\n",
       "    .dataframe tbody tr th {\n",
       "        vertical-align: top;\n",
       "    }\n",
       "</style>\n",
       "<table border=\"1\" class=\"dataframe\">\n",
       "  <thead>\n",
       "    <tr style=\"text-align: right;\">\n",
       "      <th></th>\n",
       "      <th>Chunk_Id</th>\n",
       "      <th>Brake</th>\n",
       "      <th>Gas</th>\n",
       "      <th>Velocity</th>\n",
       "      <th>Steering</th>\n",
       "      <th>Lon_acc</th>\n",
       "      <th>Lat_acc</th>\n",
       "      <th>Category</th>\n",
       "    </tr>\n",
       "  </thead>\n",
       "  <tbody>\n",
       "    <tr>\n",
       "      <th>0</th>\n",
       "      <td>0</td>\n",
       "      <td>-0.994684</td>\n",
       "      <td>-0.997475</td>\n",
       "      <td>-0.706909</td>\n",
       "      <td>-0.115532</td>\n",
       "      <td>-0.05975</td>\n",
       "      <td>0.02975</td>\n",
       "      <td>0</td>\n",
       "    </tr>\n",
       "    <tr>\n",
       "      <th>1</th>\n",
       "      <td>0</td>\n",
       "      <td>-0.994028</td>\n",
       "      <td>-0.995557</td>\n",
       "      <td>-0.707612</td>\n",
       "      <td>-0.118549</td>\n",
       "      <td>-0.06325</td>\n",
       "      <td>0.02250</td>\n",
       "      <td>0</td>\n",
       "    </tr>\n",
       "    <tr>\n",
       "      <th>2</th>\n",
       "      <td>0</td>\n",
       "      <td>-0.993880</td>\n",
       "      <td>-0.993649</td>\n",
       "      <td>-0.707503</td>\n",
       "      <td>-0.110080</td>\n",
       "      <td>-0.06125</td>\n",
       "      <td>0.01950</td>\n",
       "      <td>0</td>\n",
       "    </tr>\n",
       "    <tr>\n",
       "      <th>3</th>\n",
       "      <td>0</td>\n",
       "      <td>-0.994292</td>\n",
       "      <td>-0.992221</td>\n",
       "      <td>-0.707172</td>\n",
       "      <td>-0.101739</td>\n",
       "      <td>-0.05625</td>\n",
       "      <td>0.02950</td>\n",
       "      <td>0</td>\n",
       "    </tr>\n",
       "    <tr>\n",
       "      <th>4</th>\n",
       "      <td>0</td>\n",
       "      <td>-0.994208</td>\n",
       "      <td>-0.990936</td>\n",
       "      <td>-0.707002</td>\n",
       "      <td>-0.101279</td>\n",
       "      <td>-0.05925</td>\n",
       "      <td>0.02350</td>\n",
       "      <td>0</td>\n",
       "    </tr>\n",
       "  </tbody>\n",
       "</table>\n",
       "</div>"
      ],
      "text/plain": [
       "   Chunk_Id     Brake       Gas  Velocity  Steering  Lon_acc  Lat_acc  \\\n",
       "0         0 -0.994684 -0.997475 -0.706909 -0.115532 -0.05975  0.02975   \n",
       "1         0 -0.994028 -0.995557 -0.707612 -0.118549 -0.06325  0.02250   \n",
       "2         0 -0.993880 -0.993649 -0.707503 -0.110080 -0.06125  0.01950   \n",
       "3         0 -0.994292 -0.992221 -0.707172 -0.101739 -0.05625  0.02950   \n",
       "4         0 -0.994208 -0.990936 -0.707002 -0.101279 -0.05925  0.02350   \n",
       "\n",
       "   Category  \n",
       "0         0  \n",
       "1         0  \n",
       "2         0  \n",
       "3         0  \n",
       "4         0  "
      ]
     },
     "execution_count": 18,
     "metadata": {},
     "output_type": "execute_result"
    }
   ],
   "source": [
    "# Convert category to int\n",
    "category_mapping = {'-1': -1, '0': 0, '1': 1}\n",
    "train_df['Category'] = train_df['Category'].str.strip(\"\\'\\’\").map(category_mapping)\n",
    "train_df.head()"
   ]
  },
  {
   "cell_type": "code",
   "execution_count": 19,
   "metadata": {},
   "outputs": [
    {
     "data": {
      "text/plain": [
       "[<matplotlib.lines.Line2D at 0x7f7cfef25390>]"
      ]
     },
     "execution_count": 19,
     "metadata": {},
     "output_type": "execute_result"
    },
    {
     "data": {
      "image/png": "[encoded data removed]",
      "text/plain": [
       "<matplotlib.figure.Figure at 0x7f7cff031b38>"
      ]
     },
     "metadata": {},
     "output_type": "display_data"
    }
   ],
   "source": [
    "plt.plot(train_df['Category'])"
   ]
  },
  {
   "cell_type": "code",
   "execution_count": 20,
   "metadata": {},
   "outputs": [
    {
     "data": {
      "text/html": [
       "<div>\n",
       "<style>\n",
       "    .dataframe thead tr:only-child th {\n",
       "        text-align: right;\n",
       "    }\n",
       "\n",
       "    .dataframe thead th {\n",
       "        text-align: left;\n",
       "    }\n",
       "\n",
       "    .dataframe tbody tr th {\n",
       "        vertical-align: top;\n",
       "    }\n",
       "</style>\n",
       "<table border=\"1\" class=\"dataframe\">\n",
       "  <thead>\n",
       "    <tr style=\"text-align: right;\">\n",
       "      <th></th>\n",
       "      <th>Chunk_Id</th>\n",
       "      <th>Brake</th>\n",
       "      <th>Gas</th>\n",
       "      <th>Velocity</th>\n",
       "      <th>Steering</th>\n",
       "      <th>Lon_acc</th>\n",
       "      <th>Lat_acc</th>\n",
       "      <th>Category</th>\n",
       "    </tr>\n",
       "  </thead>\n",
       "  <tbody>\n",
       "    <tr>\n",
       "      <th>260411</th>\n",
       "      <td>45</td>\n",
       "      <td>-0.989532</td>\n",
       "      <td>-0.928594</td>\n",
       "      <td>-0.640832</td>\n",
       "      <td>0.047564</td>\n",
       "      <td>0.10775</td>\n",
       "      <td>0.05250</td>\n",
       "      <td>0</td>\n",
       "    </tr>\n",
       "    <tr>\n",
       "      <th>260412</th>\n",
       "      <td>45</td>\n",
       "      <td>-0.987152</td>\n",
       "      <td>-0.917938</td>\n",
       "      <td>-0.642205</td>\n",
       "      <td>0.061968</td>\n",
       "      <td>0.12100</td>\n",
       "      <td>0.06100</td>\n",
       "      <td>0</td>\n",
       "    </tr>\n",
       "    <tr>\n",
       "      <th>260413</th>\n",
       "      <td>45</td>\n",
       "      <td>-0.990916</td>\n",
       "      <td>-0.909356</td>\n",
       "      <td>-0.642663</td>\n",
       "      <td>0.096148</td>\n",
       "      <td>0.12150</td>\n",
       "      <td>0.06100</td>\n",
       "      <td>0</td>\n",
       "    </tr>\n",
       "    <tr>\n",
       "      <th>260414</th>\n",
       "      <td>45</td>\n",
       "      <td>-0.994780</td>\n",
       "      <td>-0.903106</td>\n",
       "      <td>-0.643649</td>\n",
       "      <td>0.157183</td>\n",
       "      <td>0.12225</td>\n",
       "      <td>0.06250</td>\n",
       "      <td>0</td>\n",
       "    </tr>\n",
       "    <tr>\n",
       "      <th>260415</th>\n",
       "      <td>45</td>\n",
       "      <td>-0.999052</td>\n",
       "      <td>-0.901348</td>\n",
       "      <td>-0.645198</td>\n",
       "      <td>0.170611</td>\n",
       "      <td>0.12725</td>\n",
       "      <td>0.06725</td>\n",
       "      <td>0</td>\n",
       "    </tr>\n",
       "  </tbody>\n",
       "</table>\n",
       "</div>"
      ],
      "text/plain": [
       "        Chunk_Id     Brake       Gas  Velocity  Steering  Lon_acc  Lat_acc  \\\n",
       "260411        45 -0.989532 -0.928594 -0.640832  0.047564  0.10775  0.05250   \n",
       "260412        45 -0.987152 -0.917938 -0.642205  0.061968  0.12100  0.06100   \n",
       "260413        45 -0.990916 -0.909356 -0.642663  0.096148  0.12150  0.06100   \n",
       "260414        45 -0.994780 -0.903106 -0.643649  0.157183  0.12225  0.06250   \n",
       "260415        45 -0.999052 -0.901348 -0.645198  0.170611  0.12725  0.06725   \n",
       "\n",
       "        Category  \n",
       "260411         0  \n",
       "260412         0  \n",
       "260413         0  \n",
       "260414         0  \n",
       "260415         0  "
      ]
     },
     "execution_count": 20,
     "metadata": {},
     "output_type": "execute_result"
    }
   ],
   "source": [
    "train_df.tail()"
   ]
  },
  {
   "cell_type": "code",
   "execution_count": 21,
   "metadata": {},
   "outputs": [
    {
     "name": "stdout",
     "output_type": "stream",
     "text": [
      "dict_items([(0, 9009), (1, 3445), (2, 4266), (3, 8471), (4, 8819), (5, 9252), (6, 4107), (7, 4556), (8, 9986), (9, 4101), (10, 4790), (11, 4229), (12, 4697), (13, 9367), (14, 4745), (15, 9395), (16, 4204), (17, 8908), (18, 3851), (19, 4504), (20, 8606), (21, 4353), (22, 3535), (23, 3960), (24, 9007), (25, 3323), (26, 4186), (27, 3098), (28, 3385), (29, 7812), (30, 3349), (31, 3592), (32, 8593), (33, 3503), (34, 8372), (35, 3338), (36, 3737), (37, 9120), (38, 3475), (39, 4058), (40, 3175), (41, 3181), (42, 8965), (43, 4629), (44, 9310), (45, 4052)])\n"
     ]
    }
   ],
   "source": [
    "chunk_groups = collections.Counter(train_df.Chunk_Id)\n",
    "print(chunk_groups.items()) "
   ]
  },
  {
   "cell_type": "code",
   "execution_count": 22,
   "metadata": {
    "collapsed": true
   },
   "outputs": [],
   "source": [
    "#31 chunks for training, 14 for validation\n",
    "TRAIN_CHUNKS = 31\n",
    "VAL_CHUNKS = 14\n",
    "trainsplit_df = pd.concat( [train_df.query('Chunk_Id==%d'%key) for key,val in chunk_groups.items() if key <= TRAIN_CHUNKS ] )\n",
    "valsplit_df = pd.concat( [train_df.query('Chunk_Id==%d'%key) for key,val in chunk_groups.items() if key >TRAIN_CHUNKS ] )   "
   ]
  },
  {
   "cell_type": "code",
   "execution_count": 24,
   "metadata": {},
   "outputs": [
    {
     "data": {
      "text/html": [
       "<div>\n",
       "<style>\n",
       "    .dataframe thead tr:only-child th {\n",
       "        text-align: right;\n",
       "    }\n",
       "\n",
       "    .dataframe thead th {\n",
       "        text-align: left;\n",
       "    }\n",
       "\n",
       "    .dataframe tbody tr th {\n",
       "        vertical-align: top;\n",
       "    }\n",
       "</style>\n",
       "<table border=\"1\" class=\"dataframe\">\n",
       "  <thead>\n",
       "    <tr style=\"text-align: right;\">\n",
       "      <th></th>\n",
       "      <th>Chunk_Id</th>\n",
       "      <th>Brake</th>\n",
       "      <th>Gas</th>\n",
       "      <th>Velocity</th>\n",
       "      <th>Steering</th>\n",
       "      <th>Lon_acc</th>\n",
       "      <th>Lat_acc</th>\n",
       "      <th>Category</th>\n",
       "    </tr>\n",
       "  </thead>\n",
       "  <tbody>\n",
       "    <tr>\n",
       "      <th>182903</th>\n",
       "      <td>31</td>\n",
       "      <td>-0.980844</td>\n",
       "      <td>-0.941733</td>\n",
       "      <td>0.552938</td>\n",
       "      <td>0.000760</td>\n",
       "      <td>0.03550</td>\n",
       "      <td>0.04300</td>\n",
       "      <td>0</td>\n",
       "    </tr>\n",
       "    <tr>\n",
       "      <th>182904</th>\n",
       "      <td>31</td>\n",
       "      <td>-0.981700</td>\n",
       "      <td>-0.943966</td>\n",
       "      <td>0.555969</td>\n",
       "      <td>0.014127</td>\n",
       "      <td>0.07025</td>\n",
       "      <td>0.08900</td>\n",
       "      <td>0</td>\n",
       "    </tr>\n",
       "    <tr>\n",
       "      <th>182905</th>\n",
       "      <td>31</td>\n",
       "      <td>-0.981904</td>\n",
       "      <td>-0.946762</td>\n",
       "      <td>0.561277</td>\n",
       "      <td>0.049424</td>\n",
       "      <td>0.08675</td>\n",
       "      <td>0.08550</td>\n",
       "      <td>0</td>\n",
       "    </tr>\n",
       "    <tr>\n",
       "      <th>182906</th>\n",
       "      <td>31</td>\n",
       "      <td>-0.982312</td>\n",
       "      <td>-0.948618</td>\n",
       "      <td>0.572662</td>\n",
       "      <td>0.055324</td>\n",
       "      <td>0.06725</td>\n",
       "      <td>0.09375</td>\n",
       "      <td>0</td>\n",
       "    </tr>\n",
       "    <tr>\n",
       "      <th>182907</th>\n",
       "      <td>31</td>\n",
       "      <td>-0.982312</td>\n",
       "      <td>-0.948764</td>\n",
       "      <td>0.570338</td>\n",
       "      <td>0.048611</td>\n",
       "      <td>-0.00900</td>\n",
       "      <td>-0.02500</td>\n",
       "      <td>0</td>\n",
       "    </tr>\n",
       "  </tbody>\n",
       "</table>\n",
       "</div>"
      ],
      "text/plain": [
       "        Chunk_Id     Brake       Gas  Velocity  Steering  Lon_acc  Lat_acc  \\\n",
       "182903        31 -0.980844 -0.941733  0.552938  0.000760  0.03550  0.04300   \n",
       "182904        31 -0.981700 -0.943966  0.555969  0.014127  0.07025  0.08900   \n",
       "182905        31 -0.981904 -0.946762  0.561277  0.049424  0.08675  0.08550   \n",
       "182906        31 -0.982312 -0.948618  0.572662  0.055324  0.06725  0.09375   \n",
       "182907        31 -0.982312 -0.948764  0.570338  0.048611 -0.00900 -0.02500   \n",
       "\n",
       "        Category  \n",
       "182903         0  \n",
       "182904         0  \n",
       "182905         0  \n",
       "182906         0  \n",
       "182907         0  "
      ]
     },
     "execution_count": 24,
     "metadata": {},
     "output_type": "execute_result"
    }
   ],
   "source": [
    "trainsplit_df.tail()"
   ]
  },
  {
   "cell_type": "code",
   "execution_count": 25,
   "metadata": {},
   "outputs": [
    {
     "data": {
      "text/html": [
       "<div>\n",
       "<style>\n",
       "    .dataframe thead tr:only-child th {\n",
       "        text-align: right;\n",
       "    }\n",
       "\n",
       "    .dataframe thead th {\n",
       "        text-align: left;\n",
       "    }\n",
       "\n",
       "    .dataframe tbody tr th {\n",
       "        vertical-align: top;\n",
       "    }\n",
       "</style>\n",
       "<table border=\"1\" class=\"dataframe\">\n",
       "  <thead>\n",
       "    <tr style=\"text-align: right;\">\n",
       "      <th></th>\n",
       "      <th>Chunk_Id</th>\n",
       "      <th>Brake</th>\n",
       "      <th>Gas</th>\n",
       "      <th>Velocity</th>\n",
       "      <th>Steering</th>\n",
       "      <th>Lon_acc</th>\n",
       "      <th>Lat_acc</th>\n",
       "      <th>Category</th>\n",
       "    </tr>\n",
       "  </thead>\n",
       "  <tbody>\n",
       "    <tr>\n",
       "      <th>182908</th>\n",
       "      <td>32</td>\n",
       "      <td>-0.990688</td>\n",
       "      <td>-0.981860</td>\n",
       "      <td>-0.320895</td>\n",
       "      <td>-0.203266</td>\n",
       "      <td>-0.10775</td>\n",
       "      <td>0.08525</td>\n",
       "      <td>0</td>\n",
       "    </tr>\n",
       "    <tr>\n",
       "      <th>182909</th>\n",
       "      <td>32</td>\n",
       "      <td>-0.991160</td>\n",
       "      <td>-0.974573</td>\n",
       "      <td>-0.322897</td>\n",
       "      <td>-0.208287</td>\n",
       "      <td>-0.10525</td>\n",
       "      <td>0.08725</td>\n",
       "      <td>0</td>\n",
       "    </tr>\n",
       "    <tr>\n",
       "      <th>182910</th>\n",
       "      <td>32</td>\n",
       "      <td>-0.990428</td>\n",
       "      <td>-0.968479</td>\n",
       "      <td>-0.324880</td>\n",
       "      <td>-0.218101</td>\n",
       "      <td>-0.10125</td>\n",
       "      <td>0.08950</td>\n",
       "      <td>0</td>\n",
       "    </tr>\n",
       "    <tr>\n",
       "      <th>182911</th>\n",
       "      <td>32</td>\n",
       "      <td>-0.990524</td>\n",
       "      <td>-0.963811</td>\n",
       "      <td>-0.326312</td>\n",
       "      <td>-0.229607</td>\n",
       "      <td>-0.09650</td>\n",
       "      <td>0.09175</td>\n",
       "      <td>0</td>\n",
       "    </tr>\n",
       "    <tr>\n",
       "      <th>182912</th>\n",
       "      <td>32</td>\n",
       "      <td>-0.989968</td>\n",
       "      <td>-0.960298</td>\n",
       "      <td>-0.327795</td>\n",
       "      <td>-0.231998</td>\n",
       "      <td>-0.09200</td>\n",
       "      <td>0.09825</td>\n",
       "      <td>0</td>\n",
       "    </tr>\n",
       "  </tbody>\n",
       "</table>\n",
       "</div>"
      ],
      "text/plain": [
       "        Chunk_Id     Brake       Gas  Velocity  Steering  Lon_acc  Lat_acc  \\\n",
       "182908        32 -0.990688 -0.981860 -0.320895 -0.203266 -0.10775  0.08525   \n",
       "182909        32 -0.991160 -0.974573 -0.322897 -0.208287 -0.10525  0.08725   \n",
       "182910        32 -0.990428 -0.968479 -0.324880 -0.218101 -0.10125  0.08950   \n",
       "182911        32 -0.990524 -0.963811 -0.326312 -0.229607 -0.09650  0.09175   \n",
       "182912        32 -0.989968 -0.960298 -0.327795 -0.231998 -0.09200  0.09825   \n",
       "\n",
       "        Category  \n",
       "182908         0  \n",
       "182909         0  \n",
       "182910         0  \n",
       "182911         0  \n",
       "182912         0  "
      ]
     },
     "execution_count": 25,
     "metadata": {},
     "output_type": "execute_result"
    }
   ],
   "source": [
    "valsplit_df.head()"
   ]
  },
  {
   "cell_type": "code",
   "execution_count": 26,
   "metadata": {
    "collapsed": true
   },
   "outputs": [],
   "source": [
    "trainsplit_df.to_csv('../input_data/trainsplit.csv')"
   ]
  },
  {
   "cell_type": "code",
   "execution_count": 27,
   "metadata": {
    "collapsed": true
   },
   "outputs": [],
   "source": [
    "valsplit_df.to_csv('../input_data/valsplit.csv')"
   ]
  },
  {
   "cell_type": "code",
   "execution_count": 28,
   "metadata": {
    "collapsed": true
   },
   "outputs": [],
   "source": [
    "train_df.to_csv('../input_data/train.csv')"
   ]
  },
  {
   "cell_type": "code",
   "execution_count": 29,
   "metadata": {
    "collapsed": true
   },
   "outputs": [],
   "source": [
    "test_df.to_csv('../input_data/test.csv')"
   ]
  },
  {
   "cell_type": "code",
   "execution_count": 30,
   "metadata": {},
   "outputs": [
    {
     "data": {
      "text/plain": [
       "[<matplotlib.lines.Line2D at 0x7f7cfe804dd8>]"
      ]
     },
     "execution_count": 30,
     "metadata": {},
     "output_type": "execute_result"
    },
    {
     "data": {
      "image/png": "[encoded data removed]",
      "text/plain": [
       "<matplotlib.figure.Figure at 0x7f7cfe88ad30>"
      ]
     },
     "metadata": {},
     "output_type": "display_data"
    }
   ],
   "source": [
    "plt.plot(trainsplit_df['Brake'])"
   ]
  },
  {
   "cell_type": "code",
   "execution_count": 31,
   "metadata": {},
   "outputs": [
    {
     "data": {
      "text/plain": [
       "[<matplotlib.lines.Line2D at 0x7f7cfe390c88>]"
      ]
     },
     "execution_count": 31,
     "metadata": {},
     "output_type": "execute_result"
    },
    {
     "data": {
      "image/png": "[encoded data removed]",
      "text/plain": [
       "<matplotlib.figure.Figure at 0x7f7cfefbac18>"
      ]
     },
     "metadata": {},
     "output_type": "display_data"
    }
   ],
   "source": [
    "plt.plot(trainsplit_df['Gas'])"
   ]
  },
  {
   "cell_type": "code",
   "execution_count": 32,
   "metadata": {},
   "outputs": [
    {
     "data": {
      "text/plain": [
       "[<matplotlib.lines.Line2D at 0x7f7cfe22c4a8>]"
      ]
     },
     "execution_count": 32,
     "metadata": {},
     "output_type": "execute_result"
    },
    {
     "data": {
      "image/png": "[encoded data removed]",
      "text/plain": [
       "<matplotlib.figure.Figure at 0x7f7cfe87ef28>"
      ]
     },
     "metadata": {},
     "output_type": "display_data"
    }
   ],
   "source": [
    "plt.plot(trainsplit_df['Velocity'])"
   ]
  },
  {
   "cell_type": "code",
   "execution_count": 33,
   "metadata": {},
   "outputs": [
    {
     "data": {
      "text/plain": [
       "[<matplotlib.lines.Line2D at 0x7f7cfd2aa400>]"
      ]
     },
     "execution_count": 33,
     "metadata": {},
     "output_type": "execute_result"
    },
    {
     "data": {
      "image/png": "[encoded data removed]",
      "text/plain": [
       "<matplotlib.figure.Figure at 0x7f7cfd2bc588>"
      ]
     },
     "metadata": {},
     "output_type": "display_data"
    }
   ],
   "source": [
    "plt.plot(trainsplit_df['Steering'])"
   ]
  },
  {
   "cell_type": "code",
   "execution_count": 34,
   "metadata": {},
   "outputs": [
    {
     "data": {
      "text/plain": [
       "[<matplotlib.lines.Line2D at 0x7f7cfd1d12e8>]"
      ]
     },
     "execution_count": 34,
     "metadata": {},
     "output_type": "execute_result"
    },
    {
     "data": {
      "image/png": "[encoded data removed]",
      "text/plain": [
       "<matplotlib.figure.Figure at 0x7f7cfe29ed68>"
      ]
     },
     "metadata": {},
     "output_type": "display_data"
    }
   ],
   "source": [
    "plt.plot(trainsplit_df['Lat_acc'])"
   ]
  },
  {
   "cell_type": "code",
   "execution_count": 35,
   "metadata": {},
   "outputs": [
    {
     "data": {
      "text/plain": [
       "[<matplotlib.lines.Line2D at 0x7f7cfd16f550>]"
      ]
     },
     "execution_count": 35,
     "metadata": {},
     "output_type": "execute_result"
    },
    {
     "data": {
      "image/png": "[encoded data removed]",
      "text/plain": [
       "<matplotlib.figure.Figure at 0x7f7cfd1e88d0>"
      ]
     },
     "metadata": {},
     "output_type": "display_data"
    }
   ],
   "source": [
    "plt.plot(trainsplit_df['Category'])"
   ]
  },
  {
   "cell_type": "code",
   "execution_count": 38,
   "metadata": {},
   "outputs": [
    {
     "data": {
      "text/plain": [
       "(array([  15137.,       0.,       0.,       0.,       0.,  151920.,\n",
       "              0.,       0.,       0.,   15851.]),\n",
       " array([-1. , -0.8, -0.6, -0.4, -0.2,  0. ,  0.2,  0.4,  0.6,  0.8,  1. ]),\n",
       " <a list of 10 Patch objects>)"
      ]
     },
     "execution_count": 38,
     "metadata": {},
     "output_type": "execute_result"
    },
    {
     "data": {
      "image/png": "[encoded data removed]",
      "text/plain": [
       "<matplotlib.figure.Figure at 0x7f7cfd1328d0>"
      ]
     },
     "metadata": {},
     "output_type": "display_data"
    }
   ],
   "source": [
    "plt.hist(trainsplit_df['Category'])"
   ]
  }
 ],
 "metadata": {
  "kernelspec": {
   "display_name": "Python 3",
   "language": "python",
   "name": "python3"
  },
  "language_info": {
   "codemirror_mode": {
    "name": "ipython",
    "version": 3
   },
   "file_extension": ".py",
   "mimetype": "text/x-python",
   "name": "python",
   "nbconvert_exporter": "python",
   "pygments_lexer": "ipython3",
   "version": "3.6.2"
  }
 },
 "nbformat": 4,
 "nbformat_minor": 2
}
